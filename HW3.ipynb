{
 "cells": [
  {
   "cell_type": "code",
   "execution_count": 2,
   "metadata": {},
   "outputs": [],
   "source": [
    "import datetime\n",
    "\n",
    "import numpy as np\n",
    "import pandas as pd\n",
    "import matplotlib.pyplot as plt\n",
    "\n",
    "%matplotlib inline"
   ]
  },
  {
   "cell_type": "markdown",
   "metadata": {},
   "source": [
    "# Упражнение 1"
   ]
  },
  {
   "cell_type": "code",
   "execution_count": 9,
   "metadata": {},
   "outputs": [
    {
     "data": {
      "text/plain": [
       "Год/Месяц                                                                                   2021\n",
       "Январь                                                    1,2,3,4,5,6,7,8,9,10,16,17,23,24,30,31\n",
       "Февраль                                                             6,7,13,14,20,21,22*,23,27,28\n",
       "Март                                                                    6,7,8*,13,14,20,21,27,28\n",
       "Апрель                                                                 3,4,10,11,17,18,24,25,30*\n",
       "Май                                                             1,2,3+,8,9,10+,15,16,22,23,29,30\n",
       "Июнь                                                               5,6,11*,12,13,14+,19,20,26,27\n",
       "Июль                                                                    3,4,10,11,17,18,24,25,31\n",
       "Август                                                                   1,7,8,14,15,21,22,28,29\n",
       "Сентябрь                                                                   4,5,11,12,18,19,25,26\n",
       "Октябрь                                                               2,3,9,10,16,17,23,24,30,31\n",
       "Ноябрь                                                                3*,4,6,7,13,14,20,21,27,28\n",
       "Декабрь                                                                4,5,11,12,18,19,25,26,31*\n",
       "Всего рабочих дней                                                                           249\n",
       "Всего праздничных и выходных дней                                                            116\n",
       "Количество рабочих часов при 40-часовой рабочей неделе                                      1987\n",
       "Количество рабочих часов при 36-часовой рабочей неделе                                    1787.8\n",
       "Количество рабочих часов при 24-часовой рабочей неделе                                    1190.2\n",
       "Name: 22, dtype: object"
      ]
     },
     "execution_count": 9,
     "metadata": {},
     "output_type": "execute_result"
    }
   ],
   "source": [
    "from pandas.tseries.holiday import AbstractHolidayCalendar, Holiday, nearest_workday, EasterMonday\n",
    "from pandas.tseries.offsets import DateOffset, Day\n",
    "\n",
    "data = pd.read_csv('/home/lycoris/Загрузки/data-20191112T1252-structure-20191112T1247.csv')\n",
    "data.loc[22]"
   ]
  },
  {
   "cell_type": "code",
   "execution_count": null,
   "metadata": {},
   "outputs": [],
   "source": [
    "def gettimestamps(d):\n",
    "    result = []\n",
    "    extras = []\n",
    "    year = d[0]\n",
    "    for month in range(1, 13):\n",
    "        days = d[month]\n",
    "        for day in days.split(','):\n",
    "            if day[-1] in '*+':\n",
    "                extras.append(day[-1])\n",
    "                day = day[:-1]\n",
    "            else:\n",
    "                extras.append(None)\n",
    "            result.append(pd.Timestamp(year, month, int(day)))\n",
    "    return result, extras\n",
    "\n",
    "\n",
    "timestamps = [gettimestamps(data.loc[i]) for i in range(len(data))]\n",
    "timestamps = pd.DataFrame({\n",
    "    'timestamps': [ts for ts, _ in timestamps],\n",
    "    'extras': [extra for _, extra in timestamps]\n",
    "}, index=range(1999, 2026))\n",
    "\n",
    "RULES = []\n",
    "for i in timestamps.index:\n",
    "    RULES.extend(\n",
    "        pd.tseries.holiday.Holiday(\n",
    "            str(ts),\n",
    "            month=ts.month,\n",
    "            year=ts.year,\n",
    "            day=ts.day,\n",
    "        )\n",
    "        for j, ts in enumerate(timestamps.loc[i, 'timestamps'])\n",
    "        if timestamps.loc[i, 'extras'][j] != '*'\n",
    "    )\n",
    "\n",
    "class RussianBusinessCalendar(pd.tseries.holiday.AbstractHolidayCalendar):\n",
    "    rules = RULES\n",
    "\n",
    "cal = RussianBusinessCalendar()\n",
    "offset = pd.tseries.offsets.CustomBusinessDay(calendar=cal)"
   ]
  },
  {
   "cell_type": "code",
   "execution_count": null,
   "metadata": {},
   "outputs": [],
   "source": [
    "class RussianBusinessCalendar(AbstractHolidayCalendar):\n",
    "    start_date = datetime.datetime(1999, 1, 1)\n",
    "    end_date = datetime.datetime(2019, 12, 31)\n",
    "    rules = [Holiday('Рабочая суббота', month=3, day=7, year=2020,\n",
    "                     offset=Day(1))]\n",
    "    \n",
    "russian_busday = pd.offsets.CustomBusinessDay(weekmask='Mon Tue Wed Thu Fri', \n",
    "                                              calendar=RussianBusinessCalendar())"
   ]
  },
  {
   "cell_type": "code",
   "execution_count": null,
   "metadata": {},
   "outputs": [],
   "source": [
    "df = pd.DataFrame(\n",
    "    {},\n",
    "    index=pd.date_range(pd.Timestamp(1999, 1, 1), pd.Timestamp(2025, 12, 31)),\n",
    "    columns=[\n",
    "        'выходной', 'праздник', 'предпраздничный рабочий день',\n",
    "        'последний день месяца', 'последний рабочий день месяца',\n",
    "        'пн', 'вт', 'ср', 'чт', 'пт', 'сб', 'вс',\n",
    "        'январь', 'февраль', 'март', 'апрель', 'май', 'июнь', 'июль',\n",
    "        'август', 'сентябрь', 'октябрь', 'ноябрь', 'декабрь',\n",
    "        'Предновогодний выходной день'\n",
    "    ]\n",
    ")\n",
    "\n",
    "df.loc[:, :] = 0\n",
    "\n",
    "df.loc[cal.holidays(df.index[0], df.index[-1]), 'выходной'] = 1\n",
    "\n",
    "for year in timestamps.index:\n",
    "    tss = timestamps.loc[year, 'timestamps']\n",
    "    extras = timestamps.loc[year, 'extras']\n",
    "    df.loc[[ts for j, ts in enumerate(tss) if extras[j] == '*'], 'предпраздничный рабочий день'] = 1\n",
    "    \n",
    "for day in df.index:\n",
    "    if day.is_month_end:\n",
    "        df.loc[day, 'последний день месяца'] = 1\n",
    "    df.loc[day, df.columns[day.day_of_week + 5]] = 1\n",
    "    df.loc[day, df.columns[day.month + 11]] = 1\n",
    "    n = offset.apply(day)\n",
    "    if df.loc[day, 'выходной']:\n",
    "        if n.year != day.year:\n",
    "            df.loc[day, 'Предновогодний выходной день'] = 1\n",
    "    elif n.month != day.month:\n",
    "        df.loc[day, 'последний рабочий день месяца'] = 1\n",
    "        \n",
    "df.loc[pd.date_range(pd.Timestamp(2021, 1, 1), pd.Timestamp(2021, 12, 31))]"
   ]
  },
  {
   "cell_type": "markdown",
   "metadata": {},
   "source": [
    "# Упражнение 2\n"
   ]
  },
  {
   "cell_type": "code",
   "execution_count": 13,
   "metadata": {},
   "outputs": [
    {
     "data": {
      "text/plain": [
       "TRADEDATE\n",
       "2013-03-25     98.79\n",
       "2013-03-26     97.20\n",
       "2013-03-27     96.75\n",
       "2013-03-28     98.59\n",
       "2013-03-29     98.76\n",
       "               ...  \n",
       "2020-01-03    255.00\n",
       "2020-01-06    253.90\n",
       "2020-01-08    259.15\n",
       "2020-01-09    257.99\n",
       "2020-01-10    258.19\n",
       "Name: CLOSE, Length: 1712, dtype: float64"
      ]
     },
     "execution_count": 13,
     "metadata": {},
     "output_type": "execute_result"
    }
   ],
   "source": [
    "ts = pd.read_csv('/home/lycoris/python_data_analysis_2021/data/sber_stocks.csv', usecols=['CLOSE', 'TRADEDATE'], \n",
    "                 index_col='TRADEDATE', parse_dates=True)\n",
    "ts = ts.CLOSE\n"
   ]
  },
  {
   "cell_type": "code",
   "execution_count": null,
   "metadata": {},
   "outputs": [],
   "source": []
  }
 ],
 "metadata": {
  "kernelspec": {
   "display_name": "Python 3",
   "language": "python",
   "name": "python3"
  },
  "language_info": {
   "codemirror_mode": {
    "name": "ipython",
    "version": 3
   },
   "file_extension": ".py",
   "mimetype": "text/x-python",
   "name": "python",
   "nbconvert_exporter": "python",
   "pygments_lexer": "ipython3",
   "version": "3.8.5"
  }
 },
 "nbformat": 4,
 "nbformat_minor": 4
}
